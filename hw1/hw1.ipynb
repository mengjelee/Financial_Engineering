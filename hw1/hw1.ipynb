{
 "cells": [
  {
   "cell_type": "code",
   "execution_count": 18,
   "metadata": {},
   "outputs": [
    {
     "name": "stdout",
     "output_type": "stream",
     "text": [
      "本金 (萬元)1000000\n",
      "期數(年)1.5\n",
      "年利率(%)5\n",
      "期數 本金 利息 本金利息累計\n",
      "1 55555.556 4166.667 0\n",
      "2 55555.556 3935.185 59722.223\n",
      "3 55555.556 3703.704 119212.964\n",
      "4 55555.556 3472.222 178472.224\n",
      "5 55555.556 3240.741 237500.002\n",
      "6 55555.556 3009.259 296296.299\n",
      "7 55555.556 2777.778 354861.114\n",
      "8 55555.556 2546.296 413194.448\n",
      "9 55555.556 2314.815 471296.3\n",
      "10 55555.556 2083.333 529166.671\n",
      "11 55555.556 1851.852 586805.56\n",
      "12 55555.556 1620.37 644212.968\n",
      "13 55555.556 1388.889 701388.894\n",
      "14 55555.556 1157.407 758333.339\n",
      "15 55555.556 925.926 815046.302\n",
      "16 55555.556 694.444 871527.784\n",
      "17 55555.556 462.963 927777.784\n",
      "18 55555.548 231.481 983796.303\n"
     ]
    }
   ],
   "source": [
    "#hw1\n",
    "p = float(input(\"本金 (萬元)\")) #principal\n",
    "y = float(input(\"期數(年)\")) #period\n",
    "rate_input = float(input(\"年利率(%)\")) #interest rate\n",
    "rate = rate_input/1200\n",
    "p_pay = 0\n",
    "p_pay = round(float(p/(y*12)),3)\n",
    "r_pay_list = []\n",
    "for i in range(int(y*12)):\n",
    "    r_pay = 0\n",
    "    r_pay = round((p - p_pay*i)*rate,3)\n",
    "    r_pay_list.append(r_pay)\n",
    "p_final_pay = round(p - p_pay*((y-1)*12+11),3)\n",
    "p_pay_list = []\n",
    "for q in range(int(y*12)-1):\n",
    "    p_pay_list.append(p_pay)\n",
    "p_pay_list.append(p_final_pay)\n",
    "print(\"期數\",\"本金\",\"利息\",\"本金利息累計\")\n",
    "p_r_total = 0\n",
    "p_r_total_list = []\n",
    "for u in range(int(y*12)):\n",
    "    p_r_total_list.append(p_pay_list[u] + r_pay_list[u])\n",
    "for j in range(int(y*12)):\n",
    "    print(j+1,p_pay_list[j],r_pay_list[j],round(sum(p_r_total_list[0:j]),3))\n"
   ]
  },
  {
   "cell_type": "code",
   "execution_count": 10,
   "metadata": {},
   "outputs": [
    {
     "name": "stdout",
     "output_type": "stream",
     "text": [
      "0.001\n"
     ]
    }
   ],
   "source": [
    "a= 0.0006\n",
    "e = round(a,3)\n",
    "print(e)"
   ]
  },
  {
   "cell_type": "code",
   "execution_count": null,
   "metadata": {},
   "outputs": [],
   "source": []
  }
 ],
 "metadata": {
  "kernelspec": {
   "display_name": "Python 3",
   "language": "python",
   "name": "python3"
  },
  "language_info": {
   "codemirror_mode": {
    "name": "ipython",
    "version": 3
   },
   "file_extension": ".py",
   "mimetype": "text/x-python",
   "name": "python",
   "nbconvert_exporter": "python",
   "pygments_lexer": "ipython3",
   "version": "3.6.4"
  }
 },
 "nbformat": 4,
 "nbformat_minor": 2
}
